{
 "cells": [
  {
   "cell_type": "markdown",
   "id": "420ea415",
   "metadata": {},
   "source": [
    "### Обучение автоэнкодера для снижения размерности признакового пространства (202 -> 2) и последующей кластеризации латентного пространства"
   ]
  },
  {
   "cell_type": "code",
   "execution_count": 2,
   "id": "174ff591",
   "metadata": {},
   "outputs": [],
   "source": [
    "import pandas as pd\n",
    "import numpy as np\n",
    "import warnings\n",
    "\n",
    "warnings.filterwarnings('ignore')"
   ]
  },
  {
   "cell_type": "code",
   "execution_count": 3,
   "id": "3e0ee0db",
   "metadata": {},
   "outputs": [],
   "source": [
    "from sklearn.preprocessing import LabelEncoder\n",
    "from sklearn.preprocessing import OneHotEncoder\n",
    "from sklearn.cluster import MiniBatchKMeans\n",
    "\n",
    "from sklearn.metrics import calinski_harabasz_score\n",
    "import datetime as dt"
   ]
  },
  {
   "cell_type": "code",
   "execution_count": 4,
   "id": "97482b0e",
   "metadata": {},
   "outputs": [],
   "source": [
    "import torch\n",
    "\n",
    "from torch import nn\n",
    "from torch.nn import functional as F\n",
    "\n",
    "from torch.utils.data import TensorDataset, DataLoader"
   ]
  },
  {
   "cell_type": "markdown",
   "id": "d30c26cf",
   "metadata": {},
   "source": [
    "### Создаем витрину для обучения "
   ]
  },
  {
   "cell_type": "code",
   "execution_count": 5,
   "id": "d5f81d19",
   "metadata": {},
   "outputs": [],
   "source": [
    "df = pd.read_csv('data1m.csv', dtype = {'party_rk': str})\n",
    "df['KEY'] = df['party_rk'] + df['day']\n",
    "df = df.drop_duplicates().reset_index(drop=True)"
   ]
  },
  {
   "cell_type": "code",
   "execution_count": 6,
   "id": "a7a0ef4e",
   "metadata": {},
   "outputs": [],
   "source": [
    "lbe = LabelEncoder()\n",
    "lbe.fit(df['event_name'])\n",
    "df.loc[:,'event_name'] = lbe.transform(df.loc[:, 'event_name'])"
   ]
  },
  {
   "cell_type": "code",
   "execution_count": 7,
   "id": "3ff6ea28",
   "metadata": {},
   "outputs": [
    {
     "data": {
      "text/plain": [
       "OneHotEncoder()"
      ]
     },
     "execution_count": 7,
     "metadata": {},
     "output_type": "execute_result"
    }
   ],
   "source": [
    "ohe = OneHotEncoder()\n",
    "ohe.fit(df[['event_name']])"
   ]
  },
  {
   "cell_type": "code",
   "execution_count": 8,
   "id": "6963332f",
   "metadata": {},
   "outputs": [
    {
     "data": {
      "text/plain": [
       "['event_1', 'event_2', 'event_3', 'event_4', 'event_5']"
      ]
     },
     "execution_count": 8,
     "metadata": {},
     "output_type": "execute_result"
    }
   ],
   "source": [
    "sparse = ohe.transform(df[['event_name']])\n",
    "event_names = [f'event_{i}' for i in range(1, sparse.shape[1]+1)]\n",
    "event_names[:5]"
   ]
  },
  {
   "cell_type": "code",
   "execution_count": 9,
   "id": "9577bedb",
   "metadata": {},
   "outputs": [],
   "source": [
    "sparse_df = pd.DataFrame(sparse.toarray(), columns=event_names)\n",
    "df_modelling = pd.concat((df['KEY'], sparse_df), axis=1)"
   ]
  },
  {
   "cell_type": "code",
   "execution_count": 13,
   "id": "04a762e9",
   "metadata": {},
   "outputs": [],
   "source": [
    "df_modelling = df_modelling.groupby('KEY').agg('sum').reset_index()"
   ]
  },
  {
   "cell_type": "markdown",
   "id": "84726737",
   "metadata": {},
   "source": [
    "### Кастуем к тензорам"
   ]
  },
  {
   "cell_type": "code",
   "execution_count": 25,
   "id": "cc4ce905",
   "metadata": {},
   "outputs": [],
   "source": [
    "X = torch.tensor(df_modelling[event_names].values, dtype=torch.float32)"
   ]
  },
  {
   "cell_type": "code",
   "execution_count": 27,
   "id": "0adc89e4",
   "metadata": {},
   "outputs": [],
   "source": [
    "batch_size=1024\n",
    "dataloader = DataLoader(X, batch_size=batch_size)"
   ]
  },
  {
   "cell_type": "markdown",
   "id": "0e891f05",
   "metadata": {},
   "source": [
    "### Создаем Auto Encoder"
   ]
  },
  {
   "cell_type": "code",
   "execution_count": 53,
   "id": "f79cc811",
   "metadata": {},
   "outputs": [],
   "source": [
    "class AE(nn.Module):\n",
    "    def __init__(self, input_len):\n",
    "        super(AE, self).__init__()\n",
    "        \n",
    "        self.encoder = nn.Sequential(nn.Linear(input_len, 32),\n",
    "                                     nn.ReLU(),\n",
    "\n",
    "                                     nn.Linear(32, 2),\n",
    "                                     nn.BatchNorm1d(2),\n",
    "                                     nn.SELU())\n",
    "                                     \n",
    "        self.decoder = nn.Sequential(nn.Linear(2, 32),\n",
    "                                     nn.BatchNorm1d(32),\n",
    "                                     nn.SELU(),\n",
    "                                     \n",
    "                                     nn.Linear(32, input_len))\n",
    "        \n",
    "    def forward(self, x):\n",
    "        x = self.encoder(x)\n",
    "        x = self.decoder(x)\n",
    "        return x\n",
    "    \n",
    "    def get_latent(self, x):\n",
    "        x = self.encoder(x)\n",
    "        x = x.detach()\n",
    "        return x"
   ]
  },
  {
   "cell_type": "code",
   "execution_count": 54,
   "id": "a07ebc6d",
   "metadata": {},
   "outputs": [],
   "source": [
    "input_len = len(event_names)\n",
    "\n",
    "model = AE(input_len=input_len)\n",
    "\n",
    "criterion = nn.MSELoss()\n",
    "optimizer = torch.optim.Adam(model.parameters(), lr=3*10e-4)"
   ]
  },
  {
   "cell_type": "markdown",
   "id": "c43086df",
   "metadata": {},
   "source": [
    "### Обучаемся "
   ]
  },
  {
   "cell_type": "code",
   "execution_count": 55,
   "id": "71969953",
   "metadata": {},
   "outputs": [
    {
     "name": "stdout",
     "output_type": "stream",
     "text": [
      "EPOCH 1, MSE: 0.0059\n",
      "EPOCH 2, MSE: 0.0035\n",
      "EPOCH 3, MSE: 0.0028\n",
      "EPOCH 4, MSE: 0.0025\n",
      "EPOCH 5, MSE: 0.0024\n",
      "EPOCH 6, MSE: 0.0023\n",
      "EPOCH 7, MSE: 0.0022\n",
      "EPOCH 8, MSE: 0.0022\n",
      "EPOCH 9, MSE: 0.0021\n",
      "EPOCH 10, MSE: 0.0021\n"
     ]
    }
   ],
   "source": [
    "epochs = 10\n",
    "\n",
    "for epoch in range(epochs):\n",
    "    losses = []\n",
    "\n",
    "    for X_batch in dataloader:\n",
    "        model.train()\n",
    "        \n",
    "        outp = model.forward(X_batch)\n",
    "        loss = criterion(outp, X_batch)\n",
    "        optimizer.zero_grad()\n",
    "        loss.backward()\n",
    "        optimizer.step()\n",
    "        \n",
    "        with torch.no_grad():\n",
    "            model.eval()\n",
    "            \n",
    "            outp = model.forward(X_batch)\n",
    "            losses.append(criterion(outp, X_batch))\n",
    "            \n",
    "    print(f'EPOCH {epoch+1}, MSE:', round(np.mean(losses), 4))"
   ]
  },
  {
   "cell_type": "markdown",
   "id": "a2291d83",
   "metadata": {},
   "source": [
    "### Извлекаем скрытое пространство для нашей витрины и сохраняем результаты "
   ]
  },
  {
   "cell_type": "code",
   "execution_count": 62,
   "id": "09b82ef0",
   "metadata": {},
   "outputs": [],
   "source": [
    "encoded_features = model.get_latent(X)"
   ]
  },
  {
   "cell_type": "code",
   "execution_count": 67,
   "id": "d181d510",
   "metadata": {},
   "outputs": [],
   "source": [
    "embeddings_df = pd.DataFrame(encoded_features.numpy(), columns=['emb_1', 'emb_2'])\n",
    "embeddings_df.to_csv('./embeddings_df.csv', index=False)"
   ]
  }
 ],
 "metadata": {
  "kernelspec": {
   "display_name": "Python 3",
   "language": "python",
   "name": "python3"
  },
  "language_info": {
   "codemirror_mode": {
    "name": "ipython",
    "version": 3
   },
   "file_extension": ".py",
   "mimetype": "text/x-python",
   "name": "python",
   "nbconvert_exporter": "python",
   "pygments_lexer": "ipython3",
   "version": "3.9.5"
  }
 },
 "nbformat": 4,
 "nbformat_minor": 5
}
