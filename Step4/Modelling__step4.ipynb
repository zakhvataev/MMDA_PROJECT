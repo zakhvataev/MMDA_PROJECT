{
 "cells": [
  {
   "cell_type": "code",
   "execution_count": 1,
   "id": "48419713",
   "metadata": {},
   "outputs": [],
   "source": [
    "from sklearn.preprocessing import LabelEncoder\n",
    "from sklearn.preprocessing import OneHotEncoder\n",
    "from sklearn.cluster import MiniBatchKMeans"
   ]
  },
  {
   "cell_type": "code",
   "execution_count": 2,
   "id": "87e0305f",
   "metadata": {},
   "outputs": [],
   "source": [
    "import pandas as pd\n",
    "import numpy as np\n",
    "import warnings\n",
    "\n",
    "warnings.filterwarnings('ignore')"
   ]
  },
  {
   "cell_type": "code",
   "execution_count": 3,
   "id": "11b250d9",
   "metadata": {},
   "outputs": [],
   "source": [
    "from sklearn.metrics import calinski_harabasz_score\n",
    "import datetime as dt"
   ]
  },
  {
   "cell_type": "code",
   "execution_count": 19,
   "id": "97fdba7d",
   "metadata": {},
   "outputs": [
    {
     "data": {
      "text/html": [
       "<div>\n",
       "<style scoped>\n",
       "    .dataframe tbody tr th:only-of-type {\n",
       "        vertical-align: middle;\n",
       "    }\n",
       "\n",
       "    .dataframe tbody tr th {\n",
       "        vertical-align: top;\n",
       "    }\n",
       "\n",
       "    .dataframe thead th {\n",
       "        text-align: right;\n",
       "    }\n",
       "</style>\n",
       "<table border=\"1\" class=\"dataframe\">\n",
       "  <thead>\n",
       "    <tr style=\"text-align: right;\">\n",
       "      <th></th>\n",
       "      <th>party_rk</th>\n",
       "      <th>cluster_1</th>\n",
       "      <th>cluster_2</th>\n",
       "      <th>cluster_3</th>\n",
       "      <th>cluster_4</th>\n",
       "      <th>cluster_5</th>\n",
       "      <th>cluster_6</th>\n",
       "      <th>cluster_7</th>\n",
       "      <th>cluster_8</th>\n",
       "      <th>cluster_9</th>\n",
       "      <th>...</th>\n",
       "      <th>cluster_22</th>\n",
       "      <th>cluster_23</th>\n",
       "      <th>cluster_24</th>\n",
       "      <th>cluster_25</th>\n",
       "      <th>cluster_26</th>\n",
       "      <th>cluster_27</th>\n",
       "      <th>cluster_28</th>\n",
       "      <th>cluster_29</th>\n",
       "      <th>cluster_30</th>\n",
       "      <th>total_acts</th>\n",
       "    </tr>\n",
       "  </thead>\n",
       "  <tbody>\n",
       "    <tr>\n",
       "      <th>0</th>\n",
       "      <td>1000083</td>\n",
       "      <td>0.0</td>\n",
       "      <td>0.0</td>\n",
       "      <td>1.0</td>\n",
       "      <td>0.0</td>\n",
       "      <td>0.0</td>\n",
       "      <td>0.0</td>\n",
       "      <td>0.0</td>\n",
       "      <td>0.0</td>\n",
       "      <td>0.0</td>\n",
       "      <td>...</td>\n",
       "      <td>0.0</td>\n",
       "      <td>0.0</td>\n",
       "      <td>0.0</td>\n",
       "      <td>0.0</td>\n",
       "      <td>0.0</td>\n",
       "      <td>0.0</td>\n",
       "      <td>0.0</td>\n",
       "      <td>0.0</td>\n",
       "      <td>0.0</td>\n",
       "      <td>1.0</td>\n",
       "    </tr>\n",
       "    <tr>\n",
       "      <th>1</th>\n",
       "      <td>1000101</td>\n",
       "      <td>0.0</td>\n",
       "      <td>0.0</td>\n",
       "      <td>0.0</td>\n",
       "      <td>0.0</td>\n",
       "      <td>0.0</td>\n",
       "      <td>0.0</td>\n",
       "      <td>0.0</td>\n",
       "      <td>0.0</td>\n",
       "      <td>0.0</td>\n",
       "      <td>...</td>\n",
       "      <td>0.0</td>\n",
       "      <td>0.0</td>\n",
       "      <td>0.0</td>\n",
       "      <td>0.0</td>\n",
       "      <td>0.0</td>\n",
       "      <td>0.0</td>\n",
       "      <td>0.0</td>\n",
       "      <td>0.0</td>\n",
       "      <td>0.0</td>\n",
       "      <td>1.0</td>\n",
       "    </tr>\n",
       "    <tr>\n",
       "      <th>2</th>\n",
       "      <td>1000129</td>\n",
       "      <td>0.0</td>\n",
       "      <td>0.0</td>\n",
       "      <td>1.0</td>\n",
       "      <td>0.0</td>\n",
       "      <td>0.0</td>\n",
       "      <td>0.0</td>\n",
       "      <td>0.0</td>\n",
       "      <td>0.0</td>\n",
       "      <td>0.0</td>\n",
       "      <td>...</td>\n",
       "      <td>0.0</td>\n",
       "      <td>0.0</td>\n",
       "      <td>0.0</td>\n",
       "      <td>0.0</td>\n",
       "      <td>0.0</td>\n",
       "      <td>0.0</td>\n",
       "      <td>0.0</td>\n",
       "      <td>0.0</td>\n",
       "      <td>0.0</td>\n",
       "      <td>1.0</td>\n",
       "    </tr>\n",
       "    <tr>\n",
       "      <th>3</th>\n",
       "      <td>10001639</td>\n",
       "      <td>1.0</td>\n",
       "      <td>1.0</td>\n",
       "      <td>1.0</td>\n",
       "      <td>0.0</td>\n",
       "      <td>1.0</td>\n",
       "      <td>0.0</td>\n",
       "      <td>0.0</td>\n",
       "      <td>0.0</td>\n",
       "      <td>0.0</td>\n",
       "      <td>...</td>\n",
       "      <td>0.0</td>\n",
       "      <td>0.0</td>\n",
       "      <td>0.0</td>\n",
       "      <td>0.0</td>\n",
       "      <td>0.0</td>\n",
       "      <td>1.0</td>\n",
       "      <td>0.0</td>\n",
       "      <td>0.0</td>\n",
       "      <td>0.0</td>\n",
       "      <td>5.0</td>\n",
       "    </tr>\n",
       "    <tr>\n",
       "      <th>4</th>\n",
       "      <td>10001818</td>\n",
       "      <td>0.0</td>\n",
       "      <td>0.0</td>\n",
       "      <td>1.0</td>\n",
       "      <td>0.0</td>\n",
       "      <td>0.0</td>\n",
       "      <td>0.0</td>\n",
       "      <td>0.0</td>\n",
       "      <td>0.0</td>\n",
       "      <td>0.0</td>\n",
       "      <td>...</td>\n",
       "      <td>0.0</td>\n",
       "      <td>0.0</td>\n",
       "      <td>0.0</td>\n",
       "      <td>0.0</td>\n",
       "      <td>0.0</td>\n",
       "      <td>0.0</td>\n",
       "      <td>0.0</td>\n",
       "      <td>0.0</td>\n",
       "      <td>0.0</td>\n",
       "      <td>1.0</td>\n",
       "    </tr>\n",
       "  </tbody>\n",
       "</table>\n",
       "<p>5 rows × 32 columns</p>\n",
       "</div>"
      ],
      "text/plain": [
       "   party_rk  cluster_1  cluster_2  cluster_3  cluster_4  cluster_5  cluster_6  \\\n",
       "0   1000083        0.0        0.0        1.0        0.0        0.0        0.0   \n",
       "1   1000101        0.0        0.0        0.0        0.0        0.0        0.0   \n",
       "2   1000129        0.0        0.0        1.0        0.0        0.0        0.0   \n",
       "3  10001639        1.0        1.0        1.0        0.0        1.0        0.0   \n",
       "4  10001818        0.0        0.0        1.0        0.0        0.0        0.0   \n",
       "\n",
       "   cluster_7  cluster_8  cluster_9  ...  cluster_22  cluster_23  cluster_24  \\\n",
       "0        0.0        0.0        0.0  ...         0.0         0.0         0.0   \n",
       "1        0.0        0.0        0.0  ...         0.0         0.0         0.0   \n",
       "2        0.0        0.0        0.0  ...         0.0         0.0         0.0   \n",
       "3        0.0        0.0        0.0  ...         0.0         0.0         0.0   \n",
       "4        0.0        0.0        0.0  ...         0.0         0.0         0.0   \n",
       "\n",
       "   cluster_25  cluster_26  cluster_27  cluster_28  cluster_29  cluster_30  \\\n",
       "0         0.0         0.0         0.0         0.0         0.0         0.0   \n",
       "1         0.0         0.0         0.0         0.0         0.0         0.0   \n",
       "2         0.0         0.0         0.0         0.0         0.0         0.0   \n",
       "3         0.0         0.0         1.0         0.0         0.0         0.0   \n",
       "4         0.0         0.0         0.0         0.0         0.0         0.0   \n",
       "\n",
       "   total_acts  \n",
       "0         1.0  \n",
       "1         1.0  \n",
       "2         1.0  \n",
       "3         5.0  \n",
       "4         1.0  \n",
       "\n",
       "[5 rows x 32 columns]"
      ]
     },
     "execution_count": 19,
     "metadata": {},
     "output_type": "execute_result"
    }
   ],
   "source": [
    "df = pd.read_csv('./vitrina.csv')\n",
    "df.head()"
   ]
  },
  {
   "cell_type": "code",
   "execution_count": 20,
   "id": "576fe146",
   "metadata": {},
   "outputs": [
    {
     "name": "stdout",
     "output_type": "stream",
     "text": [
      "For n_clusters = 2, The calinski_harabasz_score is :60002.26489849452\n",
      "For n_clusters = 3, The calinski_harabasz_score is :41258.515269345895\n",
      "For n_clusters = 4, The calinski_harabasz_score is :34342.32009547487\n",
      "For n_clusters = 5, The calinski_harabasz_score is :36632.504590656295\n",
      "For n_clusters = 6, The calinski_harabasz_score is :44084.8591251859\n",
      "For n_clusters = 7, The calinski_harabasz_score is :36365.35623043657\n",
      "For n_clusters = 8, The calinski_harabasz_score is :36409.53396360971\n",
      "For n_clusters = 9, The calinski_harabasz_score is :41774.25067422098\n"
     ]
    }
   ],
   "source": [
    "# Рассчитываем KMeans и считаем метрики ---> C ПОДСЧЕТОМ АКТИВНОСТИ\n",
    "np.random.seed(42)\n",
    "\n",
    "for n_clusters in range(2,10):\n",
    "    mbk = MiniBatchKMeans(init='k-means++', n_clusters=n_clusters, batch_size=300, n_init=n_clusters)\n",
    "    cluster_labels = mbk.fit_predict(df.iloc[:, 1:-1])\n",
    "\n",
    "    calinski_harabasz = calinski_harabasz_score(np.array(df.iloc[:, 1:-1]), cluster_labels)\n",
    "    \n",
    "    print(f\"For n_clusters = {n_clusters}, The calinski_harabasz_score is :{calinski_harabasz}\")"
   ]
  },
  {
   "cell_type": "markdown",
   "id": "cc3626d5",
   "metadata": {},
   "source": [
    "### Вывод -- 2 кластера - самое оптимальное разбиение выборки, гипотеза в том, что разделение идет по активности. Далее пробуем построить knn, убрав смещение по активности"
   ]
  },
  {
   "cell_type": "code",
   "execution_count": 26,
   "id": "483a5cae",
   "metadata": {},
   "outputs": [
    {
     "name": "stdout",
     "output_type": "stream",
     "text": [
      "cluster_30/cluster_30\n"
     ]
    }
   ],
   "source": [
    "from IPython.display import clear_output\n",
    "\n",
    "for i in range(1,31):\n",
    "    df[f'cluster_{i}'] = df[f'cluster_{i}'].apply(lambda x: 1 if x>1 else x)\n",
    "    clear_output(True)\n",
    "    print(f'cluster_{i}/cluster_30')"
   ]
  },
  {
   "cell_type": "code",
   "execution_count": 31,
   "id": "c9819632",
   "metadata": {},
   "outputs": [
    {
     "name": "stdout",
     "output_type": "stream",
     "text": [
      "For n_clusters = 2, The calinski_harabasz_score is :57137.88796244441\n",
      "For n_clusters = 3, The calinski_harabasz_score is :46171.60002134503\n",
      "For n_clusters = 4, The calinski_harabasz_score is :45490.577077215916\n",
      "For n_clusters = 5, The calinski_harabasz_score is :53789.24506583685\n",
      "For n_clusters = 6, The calinski_harabasz_score is :48535.42112979007\n",
      "For n_clusters = 7, The calinski_harabasz_score is :49289.36644154111\n",
      "For n_clusters = 8, The calinski_harabasz_score is :47993.35420603184\n",
      "For n_clusters = 9, The calinski_harabasz_score is :50252.05735498297\n",
      "For n_clusters = 10, The calinski_harabasz_score is :48581.65812006601\n"
     ]
    }
   ],
   "source": [
    "# Рассчитываем KMeans и считаем метрики ---> БЕЗ ПОДСЧЕТА АКТИВНОСТИ\n",
    "np.random.seed(42)\n",
    "\n",
    "for n_clusters in range(2, 11):\n",
    "    mbk = MiniBatchKMeans(init='k-means++', n_clusters=n_clusters, batch_size=300, n_init=n_clusters)\n",
    "    cluster_labels = mbk.fit_predict(df.iloc[:, 1:-1])\n",
    "\n",
    "    calinski_harabasz = calinski_harabasz_score(np.array(df.iloc[:, 1:-1]), cluster_labels)\n",
    "    \n",
    "    print(f\"For n_clusters = {n_clusters}, The calinski_harabasz_score is :{calinski_harabasz}\")"
   ]
  },
  {
   "cell_type": "markdown",
   "id": "6df9dae7",
   "metadata": {},
   "source": [
    "### Вывод - 2 кластера оптимальное количество, но 5 и 9 кластеров начинают составлять бОльшую конкуренцию. Далее добавляем 2-gramm участия пользователя в 2х различных кластерах "
   ]
  },
  {
   "cell_type": "code",
   "execution_count": 48,
   "id": "40a616b8",
   "metadata": {},
   "outputs": [
    {
     "name": "stdout",
     "output_type": "stream",
     "text": [
      "i=30\n"
     ]
    }
   ],
   "source": [
    "# Добавление 2gramms\n",
    "for i in range(1, 31):\n",
    "    for j in range(i+1, 31):\n",
    "        party_in_clusters = df[(df[f'cluster_{i}']==1) & (df[f'cluster_{j}']==1)].index\n",
    "\n",
    "        df[f'cluster_{i}_{j}'] = 0    \n",
    "        df.loc[party_in_clusters, f'cluster_{i}_{j}'] = 1\n",
    "    \n",
    "    clear_output(True)\n",
    "    print(f'i={i}')"
   ]
  },
  {
   "cell_type": "code",
   "execution_count": 5,
   "id": "32ebaa57",
   "metadata": {},
   "outputs": [
    {
     "name": "stdout",
     "output_type": "stream",
     "text": [
      "For n_clusters = 2, The calinski_harabasz_score is :35538.45509601364\n",
      "For n_clusters = 3, The calinski_harabasz_score is :21905.195201894643\n",
      "For n_clusters = 4, The calinski_harabasz_score is :22975.84853130936\n",
      "For n_clusters = 5, The calinski_harabasz_score is :26890.428473643584\n",
      "For n_clusters = 6, The calinski_harabasz_score is :25456.250689615073\n",
      "For n_clusters = 7, The calinski_harabasz_score is :24286.213601879892\n",
      "For n_clusters = 8, The calinski_harabasz_score is :21575.666260040467\n",
      "For n_clusters = 9, The calinski_harabasz_score is :22132.92865477759\n",
      "For n_clusters = 10, The calinski_harabasz_score is :20485.14462068946\n"
     ]
    }
   ],
   "source": [
    "# Рассчитываем KMeans и считаем метрики ---> С ДОБАВЛЕНИЕМ ДИСКРИМИНАЦИИ ПО УЧАСТИЮ В 2х РАЗЛИЧНЫХ КЛАСТЕРАХ\n",
    "np.random.seed(42)\n",
    "\n",
    "for n_clusters in range(2, 11):\n",
    "    mbk = MiniBatchKMeans(init='k-means++', n_clusters=n_clusters, batch_size=300, n_init=n_clusters)\n",
    "    cluster_labels = mbk.fit_predict(df.iloc[:, 1:])\n",
    "\n",
    "    calinski_harabasz = calinski_harabasz_score(np.array(df.iloc[:, 1:]), cluster_labels)\n",
    "    \n",
    "    print(f\"For n_clusters = {n_clusters}, The calinski_harabasz_score is :{calinski_harabasz}\")\n"
   ]
  },
  {
   "cell_type": "markdown",
   "id": "c0b0aec8",
   "metadata": {},
   "source": [
    "### Добавление дискриминации позволяет увидеть возможность разделения по 5 или 6 кластерам, но пока что разделение по 2м кластерам выигрывает"
   ]
  },
  {
   "cell_type": "code",
   "execution_count": 5,
   "id": "b1ede315",
   "metadata": {},
   "outputs": [
    {
     "name": "stdout",
     "output_type": "stream",
     "text": [
      "For n_clusters = 2, The calinski_harabasz_score is :4245.986121402007\n",
      "For n_clusters = 3, The calinski_harabasz_score is :13697.863054195925\n",
      "For n_clusters = 4, The calinski_harabasz_score is :13975.944219181605\n",
      "For n_clusters = 5, The calinski_harabasz_score is :9030.305419809865\n",
      "For n_clusters = 6, The calinski_harabasz_score is :10143.79981481547\n",
      "For n_clusters = 7, The calinski_harabasz_score is :11092.165254452448\n",
      "For n_clusters = 8, The calinski_harabasz_score is :8452.325417249993\n",
      "For n_clusters = 9, The calinski_harabasz_score is :5928.570915722404\n",
      "For n_clusters = 10, The calinski_harabasz_score is :9336.967579988617\n"
     ]
    }
   ],
   "source": [
    "# Рассчитываем KMeans и считаем метрики ---> С ИСПОЛЬЗОВАНИЕМ ТОЛЬКО ДИСКРИМИНАЦИИ ПО УЧАСТИЮ В 2х РАЗЛИЧНЫХ КЛАСТЕРАХ\n",
    "np.random.seed(42)\n",
    "\n",
    "for n_clusters in range(2, 11):\n",
    "    mbk = MiniBatchKMeans(init='k-means++', n_clusters=n_clusters, batch_size=300, n_init=n_clusters)\n",
    "    cluster_labels = mbk.fit_predict(df.iloc[:, 31:])\n",
    "\n",
    "    calinski_harabasz = calinski_harabasz_score(np.array(df.iloc[:, 31:]), cluster_labels)\n",
    "    \n",
    "    print(f\"For n_clusters = {n_clusters}, The calinski_harabasz_score is :{calinski_harabasz}\")"
   ]
  },
  {
   "cell_type": "markdown",
   "id": "e86822f2",
   "metadata": {},
   "source": [
    "### Ситуация с использованием 2-gramm дала достаточно неожиданный результат, теперь лидирует разделение на 3/4 кластера и хорошее разделение можно наблюдать на 6/7 кластерах"
   ]
  }
 ],
 "metadata": {
  "kernelspec": {
   "display_name": "Python 3",
   "language": "python",
   "name": "python3"
  },
  "language_info": {
   "codemirror_mode": {
    "name": "ipython",
    "version": 3
   },
   "file_extension": ".py",
   "mimetype": "text/x-python",
   "name": "python",
   "nbconvert_exporter": "python",
   "pygments_lexer": "ipython3",
   "version": "3.9.5"
  }
 },
 "nbformat": 4,
 "nbformat_minor": 5
}
