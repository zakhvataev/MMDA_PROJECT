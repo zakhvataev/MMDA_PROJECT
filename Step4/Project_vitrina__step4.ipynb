{
 "cells": [
  {
   "cell_type": "markdown",
   "id": "5d4d5916",
   "metadata": {},
   "source": [
    "### В данном блоке проводим кластеризация на уровне пользователь-день по целевым событиям\n",
    "### Далее планируется отследить в каких кластерах был пользователь и использовать его кластеры как новые \"мета-признаки\" для кластеризации"
   ]
  },
  {
   "cell_type": "code",
   "execution_count": 1,
   "id": "fe00beb3",
   "metadata": {},
   "outputs": [],
   "source": [
    "import pandas as pd\n",
    "import numpy as np\n",
    "import warnings\n",
    "\n",
    "warnings.filterwarnings('ignore')"
   ]
  },
  {
   "cell_type": "code",
   "execution_count": 2,
   "id": "77c944dc",
   "metadata": {},
   "outputs": [],
   "source": [
    "from sklearn.preprocessing import LabelEncoder\n",
    "from sklearn.preprocessing import OneHotEncoder\n",
    "from sklearn.cluster import MiniBatchKMeans"
   ]
  },
  {
   "cell_type": "code",
   "execution_count": 3,
   "id": "9e5be699",
   "metadata": {},
   "outputs": [],
   "source": [
    "from sklearn.metrics import calinski_harabasz_score\n",
    "import datetime as dt"
   ]
  },
  {
   "cell_type": "code",
   "execution_count": 4,
   "id": "142bfc07",
   "metadata": {},
   "outputs": [],
   "source": [
    "df = pd.read_csv('data1m.csv', dtype = {'party_rk': str})"
   ]
  },
  {
   "cell_type": "code",
   "execution_count": 5,
   "id": "d9029d1e",
   "metadata": {},
   "outputs": [],
   "source": [
    "df['KEY'] = df['party_rk'] + df['day']"
   ]
  },
  {
   "cell_type": "code",
   "execution_count": 6,
   "id": "c03a247d",
   "metadata": {},
   "outputs": [],
   "source": [
    "df = df.drop_duplicates().reset_index(drop=True)"
   ]
  },
  {
   "cell_type": "code",
   "execution_count": 7,
   "id": "dc6d643b",
   "metadata": {},
   "outputs": [],
   "source": [
    "lbe = LabelEncoder()\n",
    "lbe.fit(df['event_name'])\n",
    "df.loc[:,'event_name'] = lbe.transform(df.loc[:, 'event_name'])"
   ]
  },
  {
   "cell_type": "code",
   "execution_count": 8,
   "id": "641e99dc",
   "metadata": {},
   "outputs": [
    {
     "data": {
      "text/plain": [
       "OneHotEncoder()"
      ]
     },
     "execution_count": 8,
     "metadata": {},
     "output_type": "execute_result"
    }
   ],
   "source": [
    "ohe = OneHotEncoder()\n",
    "ohe.fit(df[['event_name']])"
   ]
  },
  {
   "cell_type": "code",
   "execution_count": 9,
   "id": "c3c5d1d3",
   "metadata": {},
   "outputs": [
    {
     "data": {
      "text/plain": [
       "['event_1', 'event_2', 'event_3', 'event_4', 'event_5']"
      ]
     },
     "execution_count": 9,
     "metadata": {},
     "output_type": "execute_result"
    }
   ],
   "source": [
    "sparse = ohe.transform(df[['event_name']])\n",
    "event_names = [f'event_{i}' for i in range(1, sparse.shape[1]+1)]\n",
    "event_names[:5]"
   ]
  },
  {
   "cell_type": "code",
   "execution_count": 10,
   "id": "ca61c553",
   "metadata": {},
   "outputs": [],
   "source": [
    "sparse_df = pd.DataFrame(sparse.toarray(), columns=event_names)\n",
    "df_modelling = pd.concat((df['KEY'], sparse_df), axis=1)"
   ]
  },
  {
   "cell_type": "code",
   "execution_count": 11,
   "id": "a8ac58a8",
   "metadata": {},
   "outputs": [],
   "source": [
    "df_modelling = df_modelling.groupby('KEY').agg('sum')\n",
    "df = df[['KEY', 'party_rk']].drop_duplicates().reset_index(drop=True)"
   ]
  },
  {
   "cell_type": "code",
   "execution_count": 12,
   "id": "35af7491",
   "metadata": {},
   "outputs": [
    {
     "name": "stdout",
     "output_type": "stream",
     "text": [
      "For n_clusters = 30, The calinski_harabasz_score is :96121.21361069386\n"
     ]
    }
   ],
   "source": [
    "# Рассчитываем KMeans и считаем метрики\n",
    "np.random.seed(42)\n",
    "\n",
    "for n_clusters in range(2,40):\n",
    "    mbk = MiniBatchKMeans(init='k-means++', n_clusters=n_clusters, batch_size=300, n_init=n_clusters)\n",
    "    cluster_labels = mbk.fit_predict(df_modelling[event_names])\n",
    "\n",
    "    calinski_harabasz = calinski_harabasz_score(np.array(df_modelling[event_names]), cluster_labels)\n",
    "    \n",
    "    print(f\"For n_clusters = {n_clusters}, The calinski_harabasz_score is :{calinski_harabasz}\")"
   ]
  },
  {
   "cell_type": "code",
   "execution_count": 13,
   "id": "fd0e21ef",
   "metadata": {},
   "outputs": [],
   "source": [
    "# 30 и 37 кластеров показали себя лучше всех, остановимся на 30\n",
    "cluster_labels = mbk.fit_predict(df_modelling[event_names])"
   ]
  },
  {
   "cell_type": "code",
   "execution_count": 14,
   "id": "5f7abb30",
   "metadata": {},
   "outputs": [],
   "source": [
    "vitrina = pd.merge(df_modelling.reset_index(), df[['KEY', 'party_rk']], on='KEY', how='left')\n",
    "vitrina['clusters'] = cluster_labels\n",
    "vitrina = vitrina[['party_rk', 'clusters']]"
   ]
  },
  {
   "cell_type": "code",
   "execution_count": 15,
   "id": "3f559237",
   "metadata": {},
   "outputs": [
    {
     "data": {
      "text/html": [
       "<div>\n",
       "<style scoped>\n",
       "    .dataframe tbody tr th:only-of-type {\n",
       "        vertical-align: middle;\n",
       "    }\n",
       "\n",
       "    .dataframe tbody tr th {\n",
       "        vertical-align: top;\n",
       "    }\n",
       "\n",
       "    .dataframe thead th {\n",
       "        text-align: right;\n",
       "    }\n",
       "</style>\n",
       "<table border=\"1\" class=\"dataframe\">\n",
       "  <thead>\n",
       "    <tr style=\"text-align: right;\">\n",
       "      <th></th>\n",
       "      <th>party_rk</th>\n",
       "      <th>cluster_1</th>\n",
       "      <th>cluster_2</th>\n",
       "      <th>cluster_3</th>\n",
       "      <th>cluster_4</th>\n",
       "      <th>cluster_5</th>\n",
       "      <th>cluster_6</th>\n",
       "      <th>cluster_7</th>\n",
       "      <th>cluster_8</th>\n",
       "      <th>cluster_9</th>\n",
       "      <th>...</th>\n",
       "      <th>cluster_21</th>\n",
       "      <th>cluster_22</th>\n",
       "      <th>cluster_23</th>\n",
       "      <th>cluster_24</th>\n",
       "      <th>cluster_25</th>\n",
       "      <th>cluster_26</th>\n",
       "      <th>cluster_27</th>\n",
       "      <th>cluster_28</th>\n",
       "      <th>cluster_29</th>\n",
       "      <th>cluster_30</th>\n",
       "    </tr>\n",
       "  </thead>\n",
       "  <tbody>\n",
       "    <tr>\n",
       "      <th>0</th>\n",
       "      <td>1000083</td>\n",
       "      <td>0.0</td>\n",
       "      <td>0.0</td>\n",
       "      <td>1.0</td>\n",
       "      <td>0.0</td>\n",
       "      <td>0.0</td>\n",
       "      <td>0.0</td>\n",
       "      <td>0.0</td>\n",
       "      <td>0.0</td>\n",
       "      <td>0.0</td>\n",
       "      <td>...</td>\n",
       "      <td>0.0</td>\n",
       "      <td>0.0</td>\n",
       "      <td>0.0</td>\n",
       "      <td>0.0</td>\n",
       "      <td>0.0</td>\n",
       "      <td>0.0</td>\n",
       "      <td>0.0</td>\n",
       "      <td>0.0</td>\n",
       "      <td>0.0</td>\n",
       "      <td>0.0</td>\n",
       "    </tr>\n",
       "    <tr>\n",
       "      <th>1</th>\n",
       "      <td>1000101</td>\n",
       "      <td>0.0</td>\n",
       "      <td>0.0</td>\n",
       "      <td>0.0</td>\n",
       "      <td>0.0</td>\n",
       "      <td>0.0</td>\n",
       "      <td>0.0</td>\n",
       "      <td>0.0</td>\n",
       "      <td>0.0</td>\n",
       "      <td>0.0</td>\n",
       "      <td>...</td>\n",
       "      <td>0.0</td>\n",
       "      <td>0.0</td>\n",
       "      <td>0.0</td>\n",
       "      <td>0.0</td>\n",
       "      <td>0.0</td>\n",
       "      <td>0.0</td>\n",
       "      <td>0.0</td>\n",
       "      <td>0.0</td>\n",
       "      <td>0.0</td>\n",
       "      <td>0.0</td>\n",
       "    </tr>\n",
       "    <tr>\n",
       "      <th>2</th>\n",
       "      <td>1000129</td>\n",
       "      <td>0.0</td>\n",
       "      <td>0.0</td>\n",
       "      <td>1.0</td>\n",
       "      <td>0.0</td>\n",
       "      <td>0.0</td>\n",
       "      <td>0.0</td>\n",
       "      <td>0.0</td>\n",
       "      <td>0.0</td>\n",
       "      <td>0.0</td>\n",
       "      <td>...</td>\n",
       "      <td>0.0</td>\n",
       "      <td>0.0</td>\n",
       "      <td>0.0</td>\n",
       "      <td>0.0</td>\n",
       "      <td>0.0</td>\n",
       "      <td>0.0</td>\n",
       "      <td>0.0</td>\n",
       "      <td>0.0</td>\n",
       "      <td>0.0</td>\n",
       "      <td>0.0</td>\n",
       "    </tr>\n",
       "    <tr>\n",
       "      <th>3</th>\n",
       "      <td>10001639</td>\n",
       "      <td>0.0</td>\n",
       "      <td>0.0</td>\n",
       "      <td>0.0</td>\n",
       "      <td>0.0</td>\n",
       "      <td>1.0</td>\n",
       "      <td>0.0</td>\n",
       "      <td>0.0</td>\n",
       "      <td>0.0</td>\n",
       "      <td>0.0</td>\n",
       "      <td>...</td>\n",
       "      <td>0.0</td>\n",
       "      <td>0.0</td>\n",
       "      <td>0.0</td>\n",
       "      <td>0.0</td>\n",
       "      <td>0.0</td>\n",
       "      <td>0.0</td>\n",
       "      <td>0.0</td>\n",
       "      <td>0.0</td>\n",
       "      <td>0.0</td>\n",
       "      <td>0.0</td>\n",
       "    </tr>\n",
       "    <tr>\n",
       "      <th>4</th>\n",
       "      <td>10001639</td>\n",
       "      <td>0.0</td>\n",
       "      <td>0.0</td>\n",
       "      <td>0.0</td>\n",
       "      <td>0.0</td>\n",
       "      <td>0.0</td>\n",
       "      <td>0.0</td>\n",
       "      <td>0.0</td>\n",
       "      <td>0.0</td>\n",
       "      <td>0.0</td>\n",
       "      <td>...</td>\n",
       "      <td>0.0</td>\n",
       "      <td>0.0</td>\n",
       "      <td>0.0</td>\n",
       "      <td>0.0</td>\n",
       "      <td>0.0</td>\n",
       "      <td>0.0</td>\n",
       "      <td>1.0</td>\n",
       "      <td>0.0</td>\n",
       "      <td>0.0</td>\n",
       "      <td>0.0</td>\n",
       "    </tr>\n",
       "  </tbody>\n",
       "</table>\n",
       "<p>5 rows × 31 columns</p>\n",
       "</div>"
      ],
      "text/plain": [
       "   party_rk  cluster_1  cluster_2  cluster_3  cluster_4  cluster_5  cluster_6  \\\n",
       "0   1000083        0.0        0.0        1.0        0.0        0.0        0.0   \n",
       "1   1000101        0.0        0.0        0.0        0.0        0.0        0.0   \n",
       "2   1000129        0.0        0.0        1.0        0.0        0.0        0.0   \n",
       "3  10001639        0.0        0.0        0.0        0.0        1.0        0.0   \n",
       "4  10001639        0.0        0.0        0.0        0.0        0.0        0.0   \n",
       "\n",
       "   cluster_7  cluster_8  cluster_9  ...  cluster_21  cluster_22  cluster_23  \\\n",
       "0        0.0        0.0        0.0  ...         0.0         0.0         0.0   \n",
       "1        0.0        0.0        0.0  ...         0.0         0.0         0.0   \n",
       "2        0.0        0.0        0.0  ...         0.0         0.0         0.0   \n",
       "3        0.0        0.0        0.0  ...         0.0         0.0         0.0   \n",
       "4        0.0        0.0        0.0  ...         0.0         0.0         0.0   \n",
       "\n",
       "   cluster_24  cluster_25  cluster_26  cluster_27  cluster_28  cluster_29  \\\n",
       "0         0.0         0.0         0.0         0.0         0.0         0.0   \n",
       "1         0.0         0.0         0.0         0.0         0.0         0.0   \n",
       "2         0.0         0.0         0.0         0.0         0.0         0.0   \n",
       "3         0.0         0.0         0.0         0.0         0.0         0.0   \n",
       "4         0.0         0.0         0.0         1.0         0.0         0.0   \n",
       "\n",
       "   cluster_30  \n",
       "0         0.0  \n",
       "1         0.0  \n",
       "2         0.0  \n",
       "3         0.0  \n",
       "4         0.0  \n",
       "\n",
       "[5 rows x 31 columns]"
      ]
     },
     "execution_count": 15,
     "metadata": {},
     "output_type": "execute_result"
    }
   ],
   "source": [
    "sparse = ohe.fit_transform(vitrina[['clusters']])\n",
    "cluster_names = [f'cluster_{i}' for i in range(1, sparse.shape[1]+1)]\n",
    "\n",
    "sparse = pd.DataFrame(sparse.toarray(), columns=cluster_names)\n",
    "vitrina = pd.concat((vitrina[['party_rk']], sparse), axis=1)\n",
    "vitrina.head()"
   ]
  },
  {
   "cell_type": "code",
   "execution_count": 17,
   "id": "a1ccf76e",
   "metadata": {},
   "outputs": [],
   "source": [
    "vitrina = vitrina.groupby('party_rk').agg('sum').reset_index()"
   ]
  },
  {
   "cell_type": "code",
   "execution_count": 19,
   "id": "fc999227",
   "metadata": {},
   "outputs": [],
   "source": [
    "vitrina['total_acts'] = vitrina[cluster_names].apply(sum, axis=1)"
   ]
  },
  {
   "cell_type": "code",
   "execution_count": 21,
   "id": "0d9b45c2",
   "metadata": {},
   "outputs": [],
   "source": [
    "vitrina.to_csv('./vitrina.csv', index=False)"
   ]
  }
 ],
 "metadata": {
  "kernelspec": {
   "display_name": "Python 3",
   "language": "python",
   "name": "python3"
  },
  "language_info": {
   "codemirror_mode": {
    "name": "ipython",
    "version": 3
   },
   "file_extension": ".py",
   "mimetype": "text/x-python",
   "name": "python",
   "nbconvert_exporter": "python",
   "pygments_lexer": "ipython3",
   "version": "3.9.5"
  }
 },
 "nbformat": 4,
 "nbformat_minor": 5
}
